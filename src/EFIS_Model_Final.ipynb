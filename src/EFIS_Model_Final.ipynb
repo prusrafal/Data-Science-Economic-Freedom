{
  "cells": [
    {
      "cell_type": "code",
      "execution_count": 62,
      "metadata": {
        "id": "ogMFDX2CgFuf"
      },
      "outputs": [
        {
          "name": "stdout",
          "output_type": "stream",
          "text": [
            "Requirement already satisfied: scikeras in /Library/Frameworks/Python.framework/Versions/3.10/lib/python3.10/site-packages (0.13.0)\n",
            "Requirement already satisfied: keras>=3.2.0 in /Library/Frameworks/Python.framework/Versions/3.10/lib/python3.10/site-packages (from scikeras) (3.3.3)\n",
            "Requirement already satisfied: scikit-learn>=1.4.2 in /Library/Frameworks/Python.framework/Versions/3.10/lib/python3.10/site-packages (from scikeras) (1.5.0)\n",
            "Requirement already satisfied: absl-py in /Library/Frameworks/Python.framework/Versions/3.10/lib/python3.10/site-packages (from keras>=3.2.0->scikeras) (2.1.0)\n",
            "Requirement already satisfied: numpy in /Library/Frameworks/Python.framework/Versions/3.10/lib/python3.10/site-packages (from keras>=3.2.0->scikeras) (1.26.2)\n",
            "Requirement already satisfied: rich in /Library/Frameworks/Python.framework/Versions/3.10/lib/python3.10/site-packages (from keras>=3.2.0->scikeras) (13.7.1)\n",
            "Requirement already satisfied: namex in /Library/Frameworks/Python.framework/Versions/3.10/lib/python3.10/site-packages (from keras>=3.2.0->scikeras) (0.0.8)\n",
            "Requirement already satisfied: h5py in /Library/Frameworks/Python.framework/Versions/3.10/lib/python3.10/site-packages (from keras>=3.2.0->scikeras) (3.11.0)\n",
            "Requirement already satisfied: optree in /Library/Frameworks/Python.framework/Versions/3.10/lib/python3.10/site-packages (from keras>=3.2.0->scikeras) (0.11.0)\n",
            "Requirement already satisfied: ml-dtypes in /Library/Frameworks/Python.framework/Versions/3.10/lib/python3.10/site-packages (from keras>=3.2.0->scikeras) (0.3.2)\n",
            "Requirement already satisfied: scipy>=1.6.0 in /Library/Frameworks/Python.framework/Versions/3.10/lib/python3.10/site-packages (from scikit-learn>=1.4.2->scikeras) (1.11.4)\n",
            "Requirement already satisfied: joblib>=1.2.0 in /Library/Frameworks/Python.framework/Versions/3.10/lib/python3.10/site-packages (from scikit-learn>=1.4.2->scikeras) (1.3.2)\n",
            "Requirement already satisfied: threadpoolctl>=3.1.0 in /Library/Frameworks/Python.framework/Versions/3.10/lib/python3.10/site-packages (from scikit-learn>=1.4.2->scikeras) (3.2.0)\n",
            "Requirement already satisfied: typing-extensions>=4.0.0 in /Library/Frameworks/Python.framework/Versions/3.10/lib/python3.10/site-packages (from optree->keras>=3.2.0->scikeras) (4.9.0)\n",
            "Requirement already satisfied: markdown-it-py>=2.2.0 in /Library/Frameworks/Python.framework/Versions/3.10/lib/python3.10/site-packages (from rich->keras>=3.2.0->scikeras) (3.0.0)\n",
            "Requirement already satisfied: pygments<3.0.0,>=2.13.0 in /Users/rprus/Library/Python/3.10/lib/python/site-packages (from rich->keras>=3.2.0->scikeras) (2.17.2)\n",
            "Requirement already satisfied: mdurl~=0.1 in /Library/Frameworks/Python.framework/Versions/3.10/lib/python3.10/site-packages (from markdown-it-py>=2.2.0->rich->keras>=3.2.0->scikeras) (0.1.2)\n",
            "Requirement already satisfied: keras-tuner in /Library/Frameworks/Python.framework/Versions/3.10/lib/python3.10/site-packages (1.4.7)\n",
            "Requirement already satisfied: keras in /Library/Frameworks/Python.framework/Versions/3.10/lib/python3.10/site-packages (from keras-tuner) (3.3.3)\n",
            "Requirement already satisfied: packaging in /Users/rprus/Library/Python/3.10/lib/python/site-packages (from keras-tuner) (23.2)\n",
            "Requirement already satisfied: requests in /Library/Frameworks/Python.framework/Versions/3.10/lib/python3.10/site-packages (from keras-tuner) (2.31.0)\n",
            "Requirement already satisfied: kt-legacy in /Library/Frameworks/Python.framework/Versions/3.10/lib/python3.10/site-packages (from keras-tuner) (1.0.5)\n",
            "Requirement already satisfied: absl-py in /Library/Frameworks/Python.framework/Versions/3.10/lib/python3.10/site-packages (from keras->keras-tuner) (2.1.0)\n",
            "Requirement already satisfied: numpy in /Library/Frameworks/Python.framework/Versions/3.10/lib/python3.10/site-packages (from keras->keras-tuner) (1.26.2)\n",
            "Requirement already satisfied: rich in /Library/Frameworks/Python.framework/Versions/3.10/lib/python3.10/site-packages (from keras->keras-tuner) (13.7.1)\n",
            "Requirement already satisfied: namex in /Library/Frameworks/Python.framework/Versions/3.10/lib/python3.10/site-packages (from keras->keras-tuner) (0.0.8)\n",
            "Requirement already satisfied: h5py in /Library/Frameworks/Python.framework/Versions/3.10/lib/python3.10/site-packages (from keras->keras-tuner) (3.11.0)\n",
            "Requirement already satisfied: optree in /Library/Frameworks/Python.framework/Versions/3.10/lib/python3.10/site-packages (from keras->keras-tuner) (0.11.0)\n",
            "Requirement already satisfied: ml-dtypes in /Library/Frameworks/Python.framework/Versions/3.10/lib/python3.10/site-packages (from keras->keras-tuner) (0.3.2)\n",
            "Requirement already satisfied: charset-normalizer<4,>=2 in /Library/Frameworks/Python.framework/Versions/3.10/lib/python3.10/site-packages (from requests->keras-tuner) (3.3.2)\n",
            "Requirement already satisfied: idna<4,>=2.5 in /Library/Frameworks/Python.framework/Versions/3.10/lib/python3.10/site-packages (from requests->keras-tuner) (3.6)\n",
            "Requirement already satisfied: urllib3<3,>=1.21.1 in /Library/Frameworks/Python.framework/Versions/3.10/lib/python3.10/site-packages (from requests->keras-tuner) (2.1.0)\n",
            "Requirement already satisfied: certifi>=2017.4.17 in /Library/Frameworks/Python.framework/Versions/3.10/lib/python3.10/site-packages (from requests->keras-tuner) (2023.11.17)\n",
            "Requirement already satisfied: typing-extensions>=4.0.0 in /Library/Frameworks/Python.framework/Versions/3.10/lib/python3.10/site-packages (from optree->keras->keras-tuner) (4.9.0)\n",
            "Requirement already satisfied: markdown-it-py>=2.2.0 in /Library/Frameworks/Python.framework/Versions/3.10/lib/python3.10/site-packages (from rich->keras->keras-tuner) (3.0.0)\n",
            "Requirement already satisfied: pygments<3.0.0,>=2.13.0 in /Users/rprus/Library/Python/3.10/lib/python/site-packages (from rich->keras->keras-tuner) (2.17.2)\n",
            "Requirement already satisfied: mdurl~=0.1 in /Library/Frameworks/Python.framework/Versions/3.10/lib/python3.10/site-packages (from markdown-it-py>=2.2.0->rich->keras->keras-tuner) (0.1.2)\n",
            "Requirement already satisfied: tensorflow in /Library/Frameworks/Python.framework/Versions/3.10/lib/python3.10/site-packages (2.16.1)\n",
            "Requirement already satisfied: absl-py>=1.0.0 in /Library/Frameworks/Python.framework/Versions/3.10/lib/python3.10/site-packages (from tensorflow) (2.1.0)\n",
            "Requirement already satisfied: astunparse>=1.6.0 in /Library/Frameworks/Python.framework/Versions/3.10/lib/python3.10/site-packages (from tensorflow) (1.6.3)\n",
            "Requirement already satisfied: flatbuffers>=23.5.26 in /Library/Frameworks/Python.framework/Versions/3.10/lib/python3.10/site-packages (from tensorflow) (24.3.25)\n",
            "Requirement already satisfied: gast!=0.5.0,!=0.5.1,!=0.5.2,>=0.2.1 in /Library/Frameworks/Python.framework/Versions/3.10/lib/python3.10/site-packages (from tensorflow) (0.5.4)\n",
            "Requirement already satisfied: google-pasta>=0.1.1 in /Library/Frameworks/Python.framework/Versions/3.10/lib/python3.10/site-packages (from tensorflow) (0.2.0)\n",
            "Requirement already satisfied: h5py>=3.10.0 in /Library/Frameworks/Python.framework/Versions/3.10/lib/python3.10/site-packages (from tensorflow) (3.11.0)\n",
            "Requirement already satisfied: libclang>=13.0.0 in /Library/Frameworks/Python.framework/Versions/3.10/lib/python3.10/site-packages (from tensorflow) (18.1.1)\n",
            "Requirement already satisfied: ml-dtypes~=0.3.1 in /Library/Frameworks/Python.framework/Versions/3.10/lib/python3.10/site-packages (from tensorflow) (0.3.2)\n",
            "Requirement already satisfied: opt-einsum>=2.3.2 in /Library/Frameworks/Python.framework/Versions/3.10/lib/python3.10/site-packages (from tensorflow) (3.3.0)\n",
            "Requirement already satisfied: packaging in /Users/rprus/Library/Python/3.10/lib/python/site-packages (from tensorflow) (23.2)\n",
            "Requirement already satisfied: protobuf!=4.21.0,!=4.21.1,!=4.21.2,!=4.21.3,!=4.21.4,!=4.21.5,<5.0.0dev,>=3.20.3 in /Library/Frameworks/Python.framework/Versions/3.10/lib/python3.10/site-packages (from tensorflow) (4.25.3)\n",
            "Requirement already satisfied: requests<3,>=2.21.0 in /Library/Frameworks/Python.framework/Versions/3.10/lib/python3.10/site-packages (from tensorflow) (2.31.0)\n",
            "Requirement already satisfied: setuptools in /Library/Frameworks/Python.framework/Versions/3.10/lib/python3.10/site-packages (from tensorflow) (58.1.0)\n",
            "Requirement already satisfied: six>=1.12.0 in /Users/rprus/Library/Python/3.10/lib/python/site-packages (from tensorflow) (1.16.0)\n",
            "Requirement already satisfied: termcolor>=1.1.0 in /Library/Frameworks/Python.framework/Versions/3.10/lib/python3.10/site-packages (from tensorflow) (2.4.0)\n",
            "Requirement already satisfied: typing-extensions>=3.6.6 in /Library/Frameworks/Python.framework/Versions/3.10/lib/python3.10/site-packages (from tensorflow) (4.9.0)\n",
            "Requirement already satisfied: wrapt>=1.11.0 in /Library/Frameworks/Python.framework/Versions/3.10/lib/python3.10/site-packages (from tensorflow) (1.16.0)\n",
            "Requirement already satisfied: grpcio<2.0,>=1.24.3 in /Library/Frameworks/Python.framework/Versions/3.10/lib/python3.10/site-packages (from tensorflow) (1.64.0)\n",
            "Requirement already satisfied: tensorboard<2.17,>=2.16 in /Library/Frameworks/Python.framework/Versions/3.10/lib/python3.10/site-packages (from tensorflow) (2.16.2)\n",
            "Requirement already satisfied: keras>=3.0.0 in /Library/Frameworks/Python.framework/Versions/3.10/lib/python3.10/site-packages (from tensorflow) (3.3.3)\n",
            "Requirement already satisfied: tensorflow-io-gcs-filesystem>=0.23.1 in /Library/Frameworks/Python.framework/Versions/3.10/lib/python3.10/site-packages (from tensorflow) (0.37.0)\n",
            "Requirement already satisfied: numpy<2.0.0,>=1.23.5 in /Library/Frameworks/Python.framework/Versions/3.10/lib/python3.10/site-packages (from tensorflow) (1.26.2)\n",
            "Requirement already satisfied: wheel<1.0,>=0.23.0 in /Library/Frameworks/Python.framework/Versions/3.10/lib/python3.10/site-packages (from astunparse>=1.6.0->tensorflow) (0.43.0)\n",
            "Requirement already satisfied: rich in /Library/Frameworks/Python.framework/Versions/3.10/lib/python3.10/site-packages (from keras>=3.0.0->tensorflow) (13.7.1)\n",
            "Requirement already satisfied: namex in /Library/Frameworks/Python.framework/Versions/3.10/lib/python3.10/site-packages (from keras>=3.0.0->tensorflow) (0.0.8)\n",
            "Requirement already satisfied: optree in /Library/Frameworks/Python.framework/Versions/3.10/lib/python3.10/site-packages (from keras>=3.0.0->tensorflow) (0.11.0)\n",
            "Requirement already satisfied: charset-normalizer<4,>=2 in /Library/Frameworks/Python.framework/Versions/3.10/lib/python3.10/site-packages (from requests<3,>=2.21.0->tensorflow) (3.3.2)\n",
            "Requirement already satisfied: idna<4,>=2.5 in /Library/Frameworks/Python.framework/Versions/3.10/lib/python3.10/site-packages (from requests<3,>=2.21.0->tensorflow) (3.6)\n",
            "Requirement already satisfied: urllib3<3,>=1.21.1 in /Library/Frameworks/Python.framework/Versions/3.10/lib/python3.10/site-packages (from requests<3,>=2.21.0->tensorflow) (2.1.0)\n",
            "Requirement already satisfied: certifi>=2017.4.17 in /Library/Frameworks/Python.framework/Versions/3.10/lib/python3.10/site-packages (from requests<3,>=2.21.0->tensorflow) (2023.11.17)\n",
            "Requirement already satisfied: markdown>=2.6.8 in /Library/Frameworks/Python.framework/Versions/3.10/lib/python3.10/site-packages (from tensorboard<2.17,>=2.16->tensorflow) (3.6)\n",
            "Requirement already satisfied: tensorboard-data-server<0.8.0,>=0.7.0 in /Library/Frameworks/Python.framework/Versions/3.10/lib/python3.10/site-packages (from tensorboard<2.17,>=2.16->tensorflow) (0.7.2)\n",
            "Requirement already satisfied: werkzeug>=1.0.1 in /Library/Frameworks/Python.framework/Versions/3.10/lib/python3.10/site-packages (from tensorboard<2.17,>=2.16->tensorflow) (3.0.1)\n",
            "Requirement already satisfied: MarkupSafe>=2.1.1 in /Library/Frameworks/Python.framework/Versions/3.10/lib/python3.10/site-packages (from werkzeug>=1.0.1->tensorboard<2.17,>=2.16->tensorflow) (2.1.3)\n",
            "Requirement already satisfied: markdown-it-py>=2.2.0 in /Library/Frameworks/Python.framework/Versions/3.10/lib/python3.10/site-packages (from rich->keras>=3.0.0->tensorflow) (3.0.0)\n",
            "Requirement already satisfied: pygments<3.0.0,>=2.13.0 in /Users/rprus/Library/Python/3.10/lib/python/site-packages (from rich->keras>=3.0.0->tensorflow) (2.17.2)\n",
            "Requirement already satisfied: mdurl~=0.1 in /Library/Frameworks/Python.framework/Versions/3.10/lib/python3.10/site-packages (from markdown-it-py>=2.2.0->rich->keras>=3.0.0->tensorflow) (0.1.2)\n"
          ]
        }
      ],
      "source": [
        "!pip install scikeras --quiet\n",
        "!pip install keras-tuner --quiet\n",
        "!pip install tensorflow --quiet"
      ]
    },
    {
      "cell_type": "code",
      "execution_count": 63,
      "metadata": {
        "id": "xTWR10p98EzI"
      },
      "outputs": [],
      "source": [
        "import pandas as pd\n",
        "import numpy as np\n",
        "import matplotlib.pyplot as plt\n",
        "import seaborn as sns\n",
        "from scipy import stats\n",
        "from statsmodels.stats.outliers_influence import variance_inflation_factor\n",
        "from sklearn.preprocessing import LabelEncoder, StandardScaler, PolynomialFeatures\n",
        "from sklearn.model_selection import train_test_split, GridSearchCV\n",
        "from sklearn.metrics import mean_squared_error, r2_score\n",
        "from sklearn.linear_model import LinearRegression, Ridge, Lasso\n",
        "from sklearn.tree import DecisionTreeRegressor\n",
        "from sklearn.ensemble import GradientBoostingRegressor, RandomForestRegressor\n",
        "import tensorflow as tf\n",
        "from tensorflow.keras.models import Sequential\n",
        "from tensorflow.keras.layers import Dense, Dropout\n",
        "from tensorflow.keras.optimizers import Adam\n",
        "from tensorflow.keras.callbacks import EarlyStopping\n",
        "from scikeras.wrappers import KerasRegressor\n",
        "from sklearn.neighbors import KNeighborsRegressor\n",
        "from sklearn.linear_model import Ridge\n",
        "from sklearn.neighbors import KNeighborsRegressor\n",
        "from sklearn.metrics import r2_score\n",
        "from sklearn.svm import SVR\n",
        "from sklearn.model_selection import GridSearchCV\n",
        "from tensorflow import keras\n",
        "from kerastuner import HyperModel, RandomSearch, GridSearch\n",
        "# Import necessary libraries\n",
        "from sklearn.metrics import mean_absolute_error, mean_squared_error, r2_score\n",
        "import numpy as np"
      ]
    },
    {
      "cell_type": "code",
      "execution_count": 64,
      "metadata": {
        "id": "iHV7JS4QgkZn"
      },
      "outputs": [],
      "source": [
        "# Google Drive import\n",
        "\n",
        "# from google.colab import drive\n",
        "# drive.mount('/content/drive')\n",
        "\n",
        "# import pandas as pd\n",
        "\n",
        "# Define the correct file path\n",
        "# file_path = '/content/drive/MyDrive/DS/Colab/exam/cleaned_data.csv'\n",
        "\n",
        "# Read the CSV file from the correct path\n",
        "# new_data = pd.read_csv(file_path)\n",
        "\n",
        "# Drop the unnecessary column\n",
        "# new_data.drop(columns=['Unnamed: 0'], inplace=True)\n",
        "\n",
        "\n",
        "# Define the correct file path\n",
        "#file_path = '/content/drive/MyDrive/DS/Colab/exam/target_data.csv'\n",
        "\n",
        "# Read the CSV file from the correct path\n",
        "#target_variable = pd.read_csv(file_path)\n",
        "\n",
        "# Drop the unnecessary column\n",
        "#target_variable.drop(columns=['Unnamed: 0'], inplace=True)"
      ]
    },
    {
      "cell_type": "code",
      "execution_count": 65,
      "metadata": {
        "id": "XANDDqRg8EzO"
      },
      "outputs": [],
      "source": [
        "new_data = pd.read_csv('cleaned_data.csv')\n",
        "new_data.drop(columns=['Unnamed: 0'], inplace=True)"
      ]
    },
    {
      "cell_type": "code",
      "execution_count": 66,
      "metadata": {
        "id": "oq0aTreR8EzP"
      },
      "outputs": [],
      "source": [
        "target_variable = pd.read_csv('target_data.csv')\n",
        "target_variable.drop(columns=['Unnamed: 0'], inplace=True)"
      ]
    },
    {
      "cell_type": "code",
      "execution_count": 67,
      "metadata": {
        "id": "w31Q_H1M_HPW"
      },
      "outputs": [
        {
          "name": "stdout",
          "output_type": "stream",
          "text": [
            "R-squared with polynomial features: 0.914542968276584\n"
          ]
        }
      ],
      "source": [
        "y = target_variable\n",
        "X = new_data\n",
        "\n",
        "X_train, X_test, y_train, y_test = train_test_split(X, y, test_size=0.2, random_state=42)\n",
        "\n",
        "scaler = StandardScaler()\n",
        "X_train_scaled = scaler.fit_transform(X_train)\n",
        "X_test_scaled = scaler.transform(X_test)\n",
        "\n",
        "poly = PolynomialFeatures(degree=2)\n",
        "X_train_poly = poly.fit_transform(X_train_scaled)\n",
        "X_test_poly = poly.transform(X_test_scaled)\n",
        "\n",
        "\n",
        "model = LinearRegression()\n",
        "\n",
        "model.fit(X_train_poly, y_train)\n",
        "\n",
        "y_pred_poly = model.predict(X_test_poly)\n",
        "\n",
        "r_squared_poly = r2_score(y_test, y_pred_poly)\n",
        "print(\"R-squared with polynomial features:\", r_squared_poly)"
      ]
    },
    {
      "cell_type": "code",
      "execution_count": 68,
      "metadata": {
        "id": "V9DuN7HdoOwz"
      },
      "outputs": [
        {
          "name": "stdout",
          "output_type": "stream",
          "text": [
            "Evaluation Metrics for Polynomial Regression Model:\n",
            "----------------------------------------------------\n",
            "R-squared: 0.9145\n",
            "Mean Absolute Error (MAE): 0.2185\n",
            "Mean Squared Error (MSE): 0.0922\n",
            "Root Mean Squared Error (RMSE): 0.3036\n",
            "Adjusted R-squared: 0.8527\n"
          ]
        }
      ],
      "source": [
        "mae_poly = mean_absolute_error(y_test, y_pred_poly)\n",
        "mse_poly = mean_squared_error(y_test, y_pred_poly)\n",
        "rmse_poly = np.sqrt(mse_poly)\n",
        "\n",
        "n = len(y_test)\n",
        "p = X_test_poly.shape[1] - 1\n",
        "adj_r_squared_poly = 1 - (1 - r_squared_poly) * (n - 1) / (n - p - 1)\n",
        "\n",
        "print(\"Evaluation Metrics for Polynomial Regression Model:\")\n",
        "print(\"----------------------------------------------------\")\n",
        "print(f\"R-squared: {r_squared_poly:.4f}\")\n",
        "print(f\"Mean Absolute Error (MAE): {mae_poly:.4f}\")\n",
        "print(f\"Mean Squared Error (MSE): {mse_poly:.4f}\")\n",
        "print(f\"Root Mean Squared Error (RMSE): {rmse_poly:.4f}\")\n",
        "print(f\"Adjusted R-squared: {adj_r_squared_poly:.4f}\")\n"
      ]
    },
    {
      "cell_type": "code",
      "execution_count": 69,
      "metadata": {
        "id": "XfkKjpYB_2yg"
      },
      "outputs": [
        {
          "name": "stdout",
          "output_type": "stream",
          "text": [
            "R-squared with Ridge regression: 0.9146665314787544\n"
          ]
        }
      ],
      "source": [
        "from sklearn.linear_model import Ridge\n",
        "\n",
        "ridge_model = Ridge(alpha=1.0)\n",
        "\n",
        "ridge_model.fit(X_train_poly, y_train)\n",
        "\n",
        "y_pred_ridge = ridge_model.predict(X_test_poly)\n",
        "\n",
        "r_squared_ridge = r2_score(y_test, y_pred_ridge)\n",
        "print(\"R-squared with Ridge regression:\", r_squared_ridge)\n"
      ]
    },
    {
      "cell_type": "code",
      "execution_count": 70,
      "metadata": {
        "id": "iC6-OafgqYs9"
      },
      "outputs": [
        {
          "name": "stdout",
          "output_type": "stream",
          "text": [
            "Evaluation Metrics for Ridge Regression Model:\n",
            "Mean Absolute Error (MAE): 0.2185\n",
            "Mean Squared Error (MSE): 0.0920\n",
            "Root Mean Squared Error (RMSE): 0.3034\n",
            "R-squared: 0.9147\n"
          ]
        }
      ],
      "source": [
        "# Calculate evaluation metrics\n",
        "mae_ridge = mean_absolute_error(y_test, y_pred_ridge)\n",
        "mse_ridge = mean_squared_error(y_test, y_pred_ridge)\n",
        "rmse_ridge = np.sqrt(mse_ridge)\n",
        "\n",
        "# Print evaluation metrics\n",
        "print(\"Evaluation Metrics for Ridge Regression Model:\")\n",
        "print(f\"Mean Absolute Error (MAE): {mae_ridge:.4f}\")\n",
        "print(f\"Mean Squared Error (MSE): {mse_ridge:.4f}\")\n",
        "print(f\"Root Mean Squared Error (RMSE): {rmse_ridge:.4f}\")\n",
        "print(f\"R-squared: {r_squared_ridge:.4f}\")"
      ]
    },
    {
      "cell_type": "code",
      "execution_count": 71,
      "metadata": {
        "id": "3RSIcYqx_8MJ"
      },
      "outputs": [
        {
          "name": "stdout",
          "output_type": "stream",
          "text": [
            "Epoch 1/50\n",
            "\u001b[1m37/37\u001b[0m \u001b[32m━━━━━━━━━━━━━━━━━━━━\u001b[0m\u001b[37m\u001b[0m \u001b[1m0s\u001b[0m 2ms/step - loss: 19.9931 - val_loss: 5.6800\n",
            "Epoch 2/50\n",
            "\u001b[1m37/37\u001b[0m \u001b[32m━━━━━━━━━━━━━━━━━━━━\u001b[0m\u001b[37m\u001b[0m \u001b[1m0s\u001b[0m 949us/step - loss: 4.0227 - val_loss: 2.7870\n",
            "Epoch 3/50\n",
            "\u001b[1m37/37\u001b[0m \u001b[32m━━━━━━━━━━━━━━━━━━━━\u001b[0m\u001b[37m\u001b[0m \u001b[1m0s\u001b[0m 858us/step - loss: 2.0185 - val_loss: 1.7506\n",
            "Epoch 4/50\n",
            "\u001b[1m37/37\u001b[0m \u001b[32m━━━━━━━━━━━━━━━━━━━━\u001b[0m\u001b[37m\u001b[0m \u001b[1m0s\u001b[0m 851us/step - loss: 1.2172 - val_loss: 1.2825\n",
            "Epoch 5/50\n",
            "\u001b[1m37/37\u001b[0m \u001b[32m━━━━━━━━━━━━━━━━━━━━\u001b[0m\u001b[37m\u001b[0m \u001b[1m0s\u001b[0m 863us/step - loss: 0.8729 - val_loss: 1.0004\n",
            "Epoch 6/50\n",
            "\u001b[1m37/37\u001b[0m \u001b[32m━━━━━━━━━━━━━━━━━━━━\u001b[0m\u001b[37m\u001b[0m \u001b[1m0s\u001b[0m 860us/step - loss: 0.7406 - val_loss: 0.8545\n",
            "Epoch 7/50\n",
            "\u001b[1m37/37\u001b[0m \u001b[32m━━━━━━━━━━━━━━━━━━━━\u001b[0m\u001b[37m\u001b[0m \u001b[1m0s\u001b[0m 908us/step - loss: 0.5701 - val_loss: 0.7427\n",
            "Epoch 8/50\n",
            "\u001b[1m37/37\u001b[0m \u001b[32m━━━━━━━━━━━━━━━━━━━━\u001b[0m\u001b[37m\u001b[0m \u001b[1m0s\u001b[0m 871us/step - loss: 0.4925 - val_loss: 0.6632\n",
            "Epoch 9/50\n",
            "\u001b[1m37/37\u001b[0m \u001b[32m━━━━━━━━━━━━━━━━━━━━\u001b[0m\u001b[37m\u001b[0m \u001b[1m0s\u001b[0m 836us/step - loss: 0.3833 - val_loss: 0.5916\n",
            "Epoch 10/50\n",
            "\u001b[1m37/37\u001b[0m \u001b[32m━━━━━━━━━━━━━━━━━━━━\u001b[0m\u001b[37m\u001b[0m \u001b[1m0s\u001b[0m 761us/step - loss: 0.3458 - val_loss: 0.5373\n",
            "Epoch 11/50\n",
            "\u001b[1m37/37\u001b[0m \u001b[32m━━━━━━━━━━━━━━━━━━━━\u001b[0m\u001b[37m\u001b[0m \u001b[1m0s\u001b[0m 901us/step - loss: 0.3189 - val_loss: 0.5075\n",
            "Epoch 12/50\n",
            "\u001b[1m37/37\u001b[0m \u001b[32m━━━━━━━━━━━━━━━━━━━━\u001b[0m\u001b[37m\u001b[0m \u001b[1m0s\u001b[0m 1ms/step - loss: 0.2722 - val_loss: 0.4571\n",
            "Epoch 13/50\n",
            "\u001b[1m37/37\u001b[0m \u001b[32m━━━━━━━━━━━━━━━━━━━━\u001b[0m\u001b[37m\u001b[0m \u001b[1m0s\u001b[0m 1ms/step - loss: 0.2247 - val_loss: 0.4353\n",
            "Epoch 14/50\n",
            "\u001b[1m37/37\u001b[0m \u001b[32m━━━━━━━━━━━━━━━━━━━━\u001b[0m\u001b[37m\u001b[0m \u001b[1m0s\u001b[0m 900us/step - loss: 0.2085 - val_loss: 0.4084\n",
            "Epoch 15/50\n",
            "\u001b[1m37/37\u001b[0m \u001b[32m━━━━━━━━━━━━━━━━━━━━\u001b[0m\u001b[37m\u001b[0m \u001b[1m0s\u001b[0m 912us/step - loss: 0.1974 - val_loss: 0.3901\n",
            "Epoch 16/50\n",
            "\u001b[1m37/37\u001b[0m \u001b[32m━━━━━━━━━━━━━━━━━━━━\u001b[0m\u001b[37m\u001b[0m \u001b[1m0s\u001b[0m 909us/step - loss: 0.1758 - val_loss: 0.3553\n",
            "Epoch 17/50\n",
            "\u001b[1m37/37\u001b[0m \u001b[32m━━━━━━━━━━━━━━━━━━━━\u001b[0m\u001b[37m\u001b[0m \u001b[1m0s\u001b[0m 897us/step - loss: 0.1562 - val_loss: 0.3361\n",
            "Epoch 18/50\n",
            "\u001b[1m37/37\u001b[0m \u001b[32m━━━━━━━━━━━━━━━━━━━━\u001b[0m\u001b[37m\u001b[0m \u001b[1m0s\u001b[0m 943us/step - loss: 0.1317 - val_loss: 0.3237\n",
            "Epoch 19/50\n",
            "\u001b[1m37/37\u001b[0m \u001b[32m━━━━━━━━━━━━━━━━━━━━\u001b[0m\u001b[37m\u001b[0m \u001b[1m0s\u001b[0m 849us/step - loss: 0.1103 - val_loss: 0.3112\n",
            "Epoch 20/50\n",
            "\u001b[1m37/37\u001b[0m \u001b[32m━━━━━━━━━━━━━━━━━━━━\u001b[0m\u001b[37m\u001b[0m \u001b[1m0s\u001b[0m 946us/step - loss: 0.1183 - val_loss: 0.3066\n",
            "Epoch 21/50\n",
            "\u001b[1m37/37\u001b[0m \u001b[32m━━━━━━━━━━━━━━━━━━━━\u001b[0m\u001b[37m\u001b[0m \u001b[1m0s\u001b[0m 881us/step - loss: 0.1010 - val_loss: 0.2993\n",
            "Epoch 22/50\n",
            "\u001b[1m37/37\u001b[0m \u001b[32m━━━━━━━━━━━━━━━━━━━━\u001b[0m\u001b[37m\u001b[0m \u001b[1m0s\u001b[0m 875us/step - loss: 0.1039 - val_loss: 0.2808\n",
            "Epoch 23/50\n",
            "\u001b[1m37/37\u001b[0m \u001b[32m━━━━━━━━━━━━━━━━━━━━\u001b[0m\u001b[37m\u001b[0m \u001b[1m0s\u001b[0m 860us/step - loss: 0.0869 - val_loss: 0.2679\n",
            "Epoch 24/50\n",
            "\u001b[1m37/37\u001b[0m \u001b[32m━━━━━━━━━━━━━━━━━━━━\u001b[0m\u001b[37m\u001b[0m \u001b[1m0s\u001b[0m 962us/step - loss: 0.0742 - val_loss: 0.2613\n",
            "Epoch 25/50\n",
            "\u001b[1m37/37\u001b[0m \u001b[32m━━━━━━━━━━━━━━━━━━━━\u001b[0m\u001b[37m\u001b[0m \u001b[1m0s\u001b[0m 856us/step - loss: 0.0775 - val_loss: 0.2499\n",
            "Epoch 26/50\n",
            "\u001b[1m37/37\u001b[0m \u001b[32m━━━━━━━━━━━━━━━━━━━━\u001b[0m\u001b[37m\u001b[0m \u001b[1m0s\u001b[0m 968us/step - loss: 0.0656 - val_loss: 0.2475\n",
            "Epoch 27/50\n",
            "\u001b[1m37/37\u001b[0m \u001b[32m━━━━━━━━━━━━━━━━━━━━\u001b[0m\u001b[37m\u001b[0m \u001b[1m0s\u001b[0m 1ms/step - loss: 0.0632 - val_loss: 0.2380\n",
            "Epoch 28/50\n",
            "\u001b[1m37/37\u001b[0m \u001b[32m━━━━━━━━━━━━━━━━━━━━\u001b[0m\u001b[37m\u001b[0m \u001b[1m0s\u001b[0m 928us/step - loss: 0.0680 - val_loss: 0.2367\n",
            "Epoch 29/50\n",
            "\u001b[1m37/37\u001b[0m \u001b[32m━━━━━━━━━━━━━━━━━━━━\u001b[0m\u001b[37m\u001b[0m \u001b[1m0s\u001b[0m 831us/step - loss: 0.0646 - val_loss: 0.2401\n",
            "Epoch 30/50\n",
            "\u001b[1m37/37\u001b[0m \u001b[32m━━━━━━━━━━━━━━━━━━━━\u001b[0m\u001b[37m\u001b[0m \u001b[1m0s\u001b[0m 832us/step - loss: 0.0564 - val_loss: 0.2206\n",
            "Epoch 31/50\n",
            "\u001b[1m37/37\u001b[0m \u001b[32m━━━━━━━━━━━━━━━━━━━━\u001b[0m\u001b[37m\u001b[0m \u001b[1m0s\u001b[0m 873us/step - loss: 0.0461 - val_loss: 0.2203\n",
            "Epoch 32/50\n",
            "\u001b[1m37/37\u001b[0m \u001b[32m━━━━━━━━━━━━━━━━━━━━\u001b[0m\u001b[37m\u001b[0m \u001b[1m0s\u001b[0m 856us/step - loss: 0.0428 - val_loss: 0.2082\n",
            "Epoch 33/50\n",
            "\u001b[1m37/37\u001b[0m \u001b[32m━━━━━━━━━━━━━━━━━━━━\u001b[0m\u001b[37m\u001b[0m \u001b[1m0s\u001b[0m 830us/step - loss: 0.0437 - val_loss: 0.2099\n",
            "Epoch 34/50\n",
            "\u001b[1m37/37\u001b[0m \u001b[32m━━━━━━━━━━━━━━━━━━━━\u001b[0m\u001b[37m\u001b[0m \u001b[1m0s\u001b[0m 921us/step - loss: 0.0410 - val_loss: 0.1992\n",
            "Epoch 35/50\n",
            "\u001b[1m37/37\u001b[0m \u001b[32m━━━━━━━━━━━━━━━━━━━━\u001b[0m\u001b[37m\u001b[0m \u001b[1m0s\u001b[0m 865us/step - loss: 0.0395 - val_loss: 0.2030\n",
            "Epoch 36/50\n",
            "\u001b[1m37/37\u001b[0m \u001b[32m━━━━━━━━━━━━━━━━━━━━\u001b[0m\u001b[37m\u001b[0m \u001b[1m0s\u001b[0m 898us/step - loss: 0.0430 - val_loss: 0.1976\n",
            "Epoch 37/50\n",
            "\u001b[1m37/37\u001b[0m \u001b[32m━━━━━━━━━━━━━━━━━━━━\u001b[0m\u001b[37m\u001b[0m \u001b[1m0s\u001b[0m 841us/step - loss: 0.0362 - val_loss: 0.2024\n",
            "Epoch 38/50\n",
            "\u001b[1m37/37\u001b[0m \u001b[32m━━━━━━━━━━━━━━━━━━━━\u001b[0m\u001b[37m\u001b[0m \u001b[1m0s\u001b[0m 860us/step - loss: 0.0344 - val_loss: 0.1919\n",
            "Epoch 39/50\n",
            "\u001b[1m37/37\u001b[0m \u001b[32m━━━━━━━━━━━━━━━━━━━━\u001b[0m\u001b[37m\u001b[0m \u001b[1m0s\u001b[0m 878us/step - loss: 0.0331 - val_loss: 0.1898\n",
            "Epoch 40/50\n",
            "\u001b[1m37/37\u001b[0m \u001b[32m━━━━━━━━━━━━━━━━━━━━\u001b[0m\u001b[37m\u001b[0m \u001b[1m0s\u001b[0m 958us/step - loss: 0.0329 - val_loss: 0.1837\n",
            "Epoch 41/50\n",
            "\u001b[1m37/37\u001b[0m \u001b[32m━━━━━━━━━━━━━━━━━━━━\u001b[0m\u001b[37m\u001b[0m \u001b[1m0s\u001b[0m 2ms/step - loss: 0.0273 - val_loss: 0.1848\n",
            "Epoch 42/50\n",
            "\u001b[1m37/37\u001b[0m \u001b[32m━━━━━━━━━━━━━━━━━━━━\u001b[0m\u001b[37m\u001b[0m \u001b[1m0s\u001b[0m 1ms/step - loss: 0.0318 - val_loss: 0.1874\n",
            "Epoch 43/50\n",
            "\u001b[1m37/37\u001b[0m \u001b[32m━━━━━━━━━━━━━━━━━━━━\u001b[0m\u001b[37m\u001b[0m \u001b[1m0s\u001b[0m 899us/step - loss: 0.0271 - val_loss: 0.1824\n",
            "Epoch 44/50\n",
            "\u001b[1m37/37\u001b[0m \u001b[32m━━━━━━━━━━━━━━━━━━━━\u001b[0m\u001b[37m\u001b[0m \u001b[1m0s\u001b[0m 878us/step - loss: 0.0292 - val_loss: 0.1905\n",
            "Epoch 45/50\n",
            "\u001b[1m37/37\u001b[0m \u001b[32m━━━━━━━━━━━━━━━━━━━━\u001b[0m\u001b[37m\u001b[0m \u001b[1m0s\u001b[0m 1ms/step - loss: 0.0261 - val_loss: 0.1928\n",
            "Epoch 46/50\n",
            "\u001b[1m37/37\u001b[0m \u001b[32m━━━━━━━━━━━━━━━━━━━━\u001b[0m\u001b[37m\u001b[0m \u001b[1m0s\u001b[0m 847us/step - loss: 0.0253 - val_loss: 0.1762\n",
            "Epoch 47/50\n",
            "\u001b[1m37/37\u001b[0m \u001b[32m━━━━━━━━━━━━━━━━━━━━\u001b[0m\u001b[37m\u001b[0m \u001b[1m0s\u001b[0m 851us/step - loss: 0.0254 - val_loss: 0.1763\n",
            "Epoch 48/50\n",
            "\u001b[1m37/37\u001b[0m \u001b[32m━━━━━━━━━━━━━━━━━━━━\u001b[0m\u001b[37m\u001b[0m \u001b[1m0s\u001b[0m 870us/step - loss: 0.0273 - val_loss: 0.1707\n",
            "Epoch 49/50\n",
            "\u001b[1m37/37\u001b[0m \u001b[32m━━━━━━━━━━━━━━━━━━━━\u001b[0m\u001b[37m\u001b[0m \u001b[1m0s\u001b[0m 825us/step - loss: 0.0241 - val_loss: 0.1753\n",
            "Epoch 50/50\n",
            "\u001b[1m37/37\u001b[0m \u001b[32m━━━━━━━━━━━━━━━━━━━━\u001b[0m\u001b[37m\u001b[0m \u001b[1m0s\u001b[0m 818us/step - loss: 0.0232 - val_loss: 0.1743\n",
            "\u001b[1m12/12\u001b[0m \u001b[32m━━━━━━━━━━━━━━━━━━━━\u001b[0m\u001b[37m\u001b[0m \u001b[1m0s\u001b[0m 1ms/step \n",
            "R-squared with Neural Network: 0.8607176542282104\n"
          ]
        }
      ],
      "source": [
        "\n",
        "model_nn = Sequential([\n",
        "    Dense(64, activation='relu', input_shape=(X_train_poly.shape[1],)),\n",
        "    Dense(1)\n",
        "])\n",
        "\n",
        "model_nn.compile(optimizer='adam', loss='mean_squared_error')\n",
        "model_nn.fit(X_train_poly, y_train, epochs=50, batch_size=32, validation_split=0.2)\n",
        "y_pred_nn = model_nn.predict(X_test_poly)\n",
        "r_squared_nn = r2_score(y_test, y_pred_nn)\n",
        "print(\"R-squared with Neural Network:\", r_squared_nn)\n"
      ]
    },
    {
      "cell_type": "code",
      "execution_count": null,
      "metadata": {},
      "outputs": [],
      "source": [
        "import warnings\n",
        "from sklearn.exceptions import DataConversionWarning\n",
        "\n",
        "# Suppressing specific warnings globally\n",
        "warnings.filterwarnings('ignore')\n",
        "warnings.filterwarnings('ignore', category=DeprecationWarning)\n",
        "warnings.filterwarnings('ignore', category=UserWarning)  # For keras-tuner warnings\n",
        "warnings.filterwarnings('ignore', category=DataConversionWarning)"
      ]
    },
    {
      "cell_type": "code",
      "execution_count": 72,
      "metadata": {
        "id": "fEFe-Msgqdwx"
      },
      "outputs": [
        {
          "name": "stdout",
          "output_type": "stream",
          "text": [
            "Evaluation Metrics for Neural Network Model:\n",
            "Mean Absolute Error (MAE): 0.2666\n",
            "Mean Squared Error (MSE): 0.1502\n",
            "Root Mean Squared Error (RMSE): 0.3876\n",
            "R-squared: 0.8607\n",
            "\n"
          ]
        }
      ],
      "source": [
        "mae_nn = mean_absolute_error(y_test, y_pred_nn)\n",
        "mse_nn = mean_squared_error(y_test, y_pred_nn)\n",
        "rmse_nn = np.sqrt(mse_nn)\n",
        "\n",
        "print(\"Evaluation Metrics for Neural Network Model:\")\n",
        "print(f\"Mean Absolute Error (MAE): {mae_nn:.4f}\")\n",
        "print(f\"Mean Squared Error (MSE): {mse_nn:.4f}\")\n",
        "print(f\"Root Mean Squared Error (RMSE): {rmse_nn:.4f}\")\n",
        "print(f\"R-squared: {r_squared_nn:.4f}\")\n",
        "print()"
      ]
    },
    {
      "cell_type": "code",
      "execution_count": 73,
      "metadata": {
        "id": "0wFSzZyTBHyi"
      },
      "outputs": [
        {
          "name": "stdout",
          "output_type": "stream",
          "text": [
            "R-squared with GradientBoostingRegressor: 0.9611224308692913\n"
          ]
        }
      ],
      "source": [
        "gb_model = GradientBoostingRegressor(n_estimators=100, learning_rate=0.1, max_depth=3, random_state=42)\n",
        "\n",
        "gb_model.fit(X_train_poly, y_train)\n",
        "\n",
        "y_pred_gb = gb_model.predict(X_test_poly)\n",
        "\n",
        "r_squared_gb = r2_score(y_test, y_pred_gb)\n",
        "print(\"R-squared with GradientBoostingRegressor:\", r_squared_gb)"
      ]
    },
    {
      "cell_type": "code",
      "execution_count": 74,
      "metadata": {
        "id": "-gXGvlqLqhG6"
      },
      "outputs": [
        {
          "name": "stdout",
          "output_type": "stream",
          "text": [
            "Evaluation Metrics for Gradient Boosting Regressor:\n",
            "Mean Absolute Error (MAE): 0.1519\n",
            "Mean Squared Error (MSE): 0.0419\n",
            "Root Mean Squared Error (RMSE): 0.2048\n",
            "R-squared: 0.9611\n",
            "\n"
          ]
        }
      ],
      "source": [
        "mae_gb = mean_absolute_error(y_test, y_pred_gb)\n",
        "mse_gb = mean_squared_error(y_test, y_pred_gb)\n",
        "rmse_gb = np.sqrt(mse_gb)\n",
        "\n",
        "print(\"Evaluation Metrics for Gradient Boosting Regressor:\")\n",
        "print(f\"Mean Absolute Error (MAE): {mae_gb:.4f}\")\n",
        "print(f\"Mean Squared Error (MSE): {mse_gb:.4f}\")\n",
        "print(f\"Root Mean Squared Error (RMSE): {rmse_gb:.4f}\")\n",
        "print(f\"R-squared: {r_squared_gb:.4f}\")\n",
        "print()"
      ]
    },
    {
      "cell_type": "code",
      "execution_count": 75,
      "metadata": {
        "id": "qqUuRcRT8EzY"
      },
      "outputs": [
        {
          "name": "stdout",
          "output_type": "stream",
          "text": [
            "R-squared with RandomForestRegressor: 0.9550317270506979\n"
          ]
        }
      ],
      "source": [
        "rf_model = RandomForestRegressor(n_estimators=100, max_depth=10, random_state=42)\n",
        "\n",
        "rf_model.fit(X_train, y_train)\n",
        "\n",
        "y_pred_rf = rf_model.predict(X_test)\n",
        "\n",
        "r_squared_rf = r2_score(y_test, y_pred_rf)\n",
        "print(\"R-squared with RandomForestRegressor:\", r_squared_rf)\n"
      ]
    },
    {
      "cell_type": "code",
      "execution_count": 76,
      "metadata": {
        "id": "S4F-IXHPql2O"
      },
      "outputs": [
        {
          "name": "stdout",
          "output_type": "stream",
          "text": [
            "Evaluation Metrics for Random Forest Regressor:\n",
            "Mean Absolute Error (MAE): 0.1393\n",
            "Mean Squared Error (MSE): 0.0485\n",
            "Root Mean Squared Error (RMSE): 0.2202\n",
            "R-squared: 0.9550\n",
            "\n"
          ]
        }
      ],
      "source": [
        "mae_rf = mean_absolute_error(y_test, y_pred_rf)\n",
        "mse_rf = mean_squared_error(y_test, y_pred_rf)\n",
        "rmse_rf = np.sqrt(mse_rf)\n",
        "\n",
        "print(\"Evaluation Metrics for Random Forest Regressor:\")\n",
        "print(f\"Mean Absolute Error (MAE): {mae_rf:.4f}\")\n",
        "print(f\"Mean Squared Error (MSE): {mse_rf:.4f}\")\n",
        "print(f\"Root Mean Squared Error (RMSE): {rmse_rf:.4f}\")\n",
        "print(f\"R-squared: {r_squared_rf:.4f}\")\n",
        "print()"
      ]
    },
    {
      "cell_type": "code",
      "execution_count": 77,
      "metadata": {
        "id": "1GFWDnhmCMVk"
      },
      "outputs": [
        {
          "name": "stdout",
          "output_type": "stream",
          "text": [
            "R-squared with KNN regression: 0.9609186632069094\n"
          ]
        }
      ],
      "source": [
        "knn_model = KNeighborsRegressor(n_neighbors=5)\n",
        "\n",
        "knn_model.fit(X_train, y_train)\n",
        "\n",
        "y_pred_knn = knn_model.predict(X_test)\n",
        "r_squared_knn = r2_score(y_test, y_pred_knn)\n",
        "print(\"R-squared with KNN regression:\", r_squared_knn)\n"
      ]
    },
    {
      "cell_type": "code",
      "execution_count": 78,
      "metadata": {
        "id": "Zv2fRKXIqovZ"
      },
      "outputs": [
        {
          "name": "stdout",
          "output_type": "stream",
          "text": [
            "Evaluation Metrics for K-Nearest Neighbors (KNN) Regressor:\n",
            "Mean Absolute Error (MAE): 0.1280\n",
            "Mean Squared Error (MSE): 0.0422\n",
            "Root Mean Squared Error (RMSE): 0.2053\n",
            "R-squared: 0.9609\n"
          ]
        }
      ],
      "source": [
        "mae_knn = mean_absolute_error(y_test, y_pred_knn)\n",
        "mse_knn = mean_squared_error(y_test, y_pred_knn)\n",
        "rmse_knn = np.sqrt(mse_knn)\n",
        "\n",
        "print(\"Evaluation Metrics for K-Nearest Neighbors (KNN) Regressor:\")\n",
        "print(f\"Mean Absolute Error (MAE): {mae_knn:.4f}\")\n",
        "print(f\"Mean Squared Error (MSE): {mse_knn:.4f}\")\n",
        "print(f\"Root Mean Squared Error (RMSE): {rmse_knn:.4f}\")\n",
        "print(f\"R-squared: {r_squared_knn:.4f}\")"
      ]
    },
    {
      "cell_type": "code",
      "execution_count": 79,
      "metadata": {
        "id": "wT_Z7Sc0DG-D"
      },
      "outputs": [
        {
          "name": "stdout",
          "output_type": "stream",
          "text": [
            "Best hyperparameters for RandomForestRegressor: {'max_depth': 20, 'min_samples_split': 2, 'n_estimators': 150}\n",
            "R-squared with best RandomForestRegressor: 0.9612891693556482\n"
          ]
        }
      ],
      "source": [
        "\n",
        "param_grid = {\n",
        "    'n_estimators': [50, 100, 150],\n",
        "    'max_depth': [None, 10, 20],\n",
        "    'min_samples_split': [2, 5, 10]\n",
        "}\n",
        "\n",
        "rf_model = RandomForestRegressor(random_state=42)\n",
        "\n",
        "grid_search_rf = GridSearchCV(rf_model, param_grid, cv=5, scoring='r2')\n",
        "grid_search_rf.fit(X_train, y_train)\n",
        "\n",
        "best_params_rf = grid_search_rf.best_params_\n",
        "print(\"Best hyperparameters for RandomForestRegressor:\", best_params_rf)\n",
        "\n",
        "best_rf_model = grid_search_rf.best_estimator_\n",
        "y_pred_rf = best_rf_model.predict(X_test)\n",
        "r_squared_rf = r2_score(y_test, y_pred_rf)\n",
        "print(\"R-squared with best RandomForestRegressor:\", r_squared_rf)\n"
      ]
    },
    {
      "cell_type": "code",
      "execution_count": 80,
      "metadata": {
        "id": "RiO5gqupQRbr"
      },
      "outputs": [
        {
          "name": "stdout",
          "output_type": "stream",
          "text": [
            "Evaluation Metrics for RandomForestRegressor with Best Hyperparameters:\n",
            "Mean Absolute Error (MAE): 0.1234\n",
            "Mean Squared Error (MSE): 0.0418\n",
            "Root Mean Squared Error (RMSE): 0.2043\n",
            "R-squared: 0.9613\n"
          ]
        }
      ],
      "source": [
        "from sklearn.metrics import mean_absolute_error, mean_squared_error, r2_score\n",
        "\n",
        "\n",
        "y_pred_rf = best_rf_model.predict(X_test)\n",
        "\n",
        "mae_rf = mean_absolute_error(y_test, y_pred_rf)\n",
        "mse_rf = mean_squared_error(y_test, y_pred_rf)\n",
        "rmse_rf = np.sqrt(mse_rf)\n",
        "r_squared_rf = r2_score(y_test, y_pred_rf)\n",
        "\n",
        "print(\"Evaluation Metrics for RandomForestRegressor with Best Hyperparameters:\")\n",
        "print(f\"Mean Absolute Error (MAE): {mae_rf:.4f}\")\n",
        "print(f\"Mean Squared Error (MSE): {mse_rf:.4f}\")\n",
        "print(f\"Root Mean Squared Error (RMSE): {rmse_rf:.4f}\")\n",
        "print(f\"R-squared: {r_squared_rf:.4f}\")\n"
      ]
    },
    {
      "cell_type": "code",
      "execution_count": 94,
      "metadata": {
        "colab": {
          "base_uri": "https://localhost:8080/"
        },
        "id": "feqGjoWCDOCq",
        "outputId": "a1aeee1d-3b17-47f2-846f-bf4aedd1ff48"
      },
      "outputs": [
        {
          "name": "stdout",
          "output_type": "stream",
          "text": [
            "Best Hyperparameters: {'C': 10, 'epsilon': 0.1, 'gamma': 'scale', 'kernel': 'linear'}\n",
            "Mean Squared Error: 0.21578973764183298\n"
          ]
        }
      ],
      "source": [
        "# Ensure y_train and y_test are in the correct shape\n",
        "y_train = y_train.values.ravel()\n",
        "y_test = y_test.values.ravel()\n",
        "\n",
        "svm_regressor = SVR()\n",
        "param_grid = {\n",
        "    'kernel': ['linear', 'rbf'],  \n",
        "    'C': [1, 10], \n",
        "    'gamma': ['scale'], \n",
        "    'epsilon': [0.1, 0.01], \n",
        "}\n",
        "\n",
        "grid_search = GridSearchCV(estimator=svm_regressor, param_grid=param_grid,\n",
        "                           scoring='neg_mean_squared_error', cv=5, n_jobs=-1)\n",
        "grid_search.fit(X_train, y_train)\n",
        "\n",
        "best_params = grid_search.best_params_\n",
        "best_model = grid_search.best_estimator_\n",
        "\n",
        "y_pred = best_model.predict(X_test)\n",
        "mse = mean_squared_error(y_test, y_pred)\n",
        "print(\"Best Hyperparameters:\", best_params)\n",
        "print(\"Mean Squared Error:\", mse)\n"
      ]
    },
    {
      "cell_type": "code",
      "execution_count": 82,
      "metadata": {
        "id": "mcAReXpNXctN"
      },
      "outputs": [
        {
          "name": "stdout",
          "output_type": "stream",
          "text": [
            "R^2 Score: 0.799921560700102\n"
          ]
        }
      ],
      "source": [
        "r2 = r2_score(y_test, y_pred)\n",
        "print(\"R^2 Score:\", r2)"
      ]
    },
    {
      "cell_type": "code",
      "execution_count": 83,
      "metadata": {
        "id": "mhXsd0DbSAvX"
      },
      "outputs": [
        {
          "name": "stdout",
          "output_type": "stream",
          "text": [
            "Evaluation Metrics for Support Vector Machine Regressor with Best Hyperparameters:\n",
            "Mean Absolute Error (MAE): 0.3407\n",
            "Mean Squared Error (MSE): 0.2158\n",
            "Root Mean Squared Error (RMSE): 0.4645\n",
            "R-squared: 0.7999\n"
          ]
        }
      ],
      "source": [
        "from sklearn.metrics import mean_absolute_error, mean_squared_error, r2_score\n",
        "\n",
        "# Predict using the best SVR model\n",
        "y_pred_svr = best_model.predict(X_test)\n",
        "\n",
        "# Calculate evaluation metrics\n",
        "mae_svr = mean_absolute_error(y_test, y_pred_svr)\n",
        "mse_svr = mean_squared_error(y_test, y_pred_svr)\n",
        "rmse_svr = np.sqrt(mse_svr)\n",
        "r_squared_svr = r2_score(y_test, y_pred_svr)\n",
        "\n",
        "# Print evaluation metrics\n",
        "print(\"Evaluation Metrics for Support Vector Machine Regressor with Best Hyperparameters:\")\n",
        "print(f\"Mean Absolute Error (MAE): {mae_svr:.4f}\")\n",
        "print(f\"Mean Squared Error (MSE): {mse_svr:.4f}\")\n",
        "print(f\"Root Mean Squared Error (RMSE): {rmse_svr:.4f}\")\n",
        "print(f\"R-squared: {r_squared_svr:.4f}\")"
      ]
    },
    {
      "cell_type": "code",
      "execution_count": 84,
      "metadata": {
        "id": "u9L8SAhIDjcM"
      },
      "outputs": [
        {
          "name": "stdout",
          "output_type": "stream",
          "text": [
            "Reloading Tuner from my_dir/untitled_project/tuner0.json\n",
            "\u001b[1m12/12\u001b[0m \u001b[32m━━━━━━━━━━━━━━━━━━━━\u001b[0m\u001b[37m\u001b[0m \u001b[1m0s\u001b[0m 1ms/step \n",
            "R-squared with best Neural Network: 0.8882395029067993\n"
          ]
        }
      ],
      "source": [
        "from keras import layers, models, optimizers\n",
        "from keras_tuner import HyperParameters, GridSearch\n",
        "from sklearn.metrics import r2_score\n",
        "\n",
        "def build_model(hp):\n",
        "    n_hidden = hp.Int('n_hidden', min_value=1, max_value=2, step=1)  \n",
        "    units = hp.Int('units', min_value=32, max_value=64, step=32) \n",
        "    activation = hp.Choice('activation', ['relu', 'tanh'])\n",
        "    lr = hp.Float('learning_rate', min_value=0.001, max_value=0.01, sampling='log') \n",
        "    batch_size = hp.Int('batch_size', min_value=32, max_value=64, step=32) \n",
        "\n",
        "    model = models.Sequential()\n",
        "    model.add(layers.Dense(units=units, activation=activation, input_shape=(X_train_poly.shape[1],)))\n",
        "\n",
        "    for _ in range(n_hidden - 1):\n",
        "        model.add(layers.Dense(units=units, activation=activation))\n",
        "\n",
        "    model.add(layers.Dense(1))\n",
        "\n",
        "    model.compile(optimizer=optimizers.Adam(learning_rate=lr), loss='mean_squared_error')\n",
        "    return model\n",
        "\n",
        "tuner = GridSearch(\n",
        "    build_model,\n",
        "    objective='val_loss',\n",
        "    max_trials=5,  # Reduced max_trials\n",
        "    directory='my_dir',\n",
        ")\n",
        "\n",
        "tuner.search(X_train_poly, y_train, epochs=20, validation_split=0.2)  # Reduced epochs\n",
        "\n",
        "best_model = tuner.get_best_models()[0]\n",
        "\n",
        "y_pred_nn = best_model.predict(X_test_poly)\n",
        "r_squared_nn = r2_score(y_test, y_pred_nn)\n",
        "print(\"R-squared with best Neural Network:\", r_squared_nn)"
      ]
    },
    {
      "cell_type": "code",
      "execution_count": 85,
      "metadata": {
        "id": "elWUYjsDSMeb"
      },
      "outputs": [
        {
          "name": "stdout",
          "output_type": "stream",
          "text": [
            "\u001b[1m12/12\u001b[0m \u001b[32m━━━━━━━━━━━━━━━━━━━━\u001b[0m\u001b[37m\u001b[0m \u001b[1m0s\u001b[0m 382us/step\n",
            "Evaluation Metrics for Neural Network with Best Hyperparameters:\n",
            "Mean Absolute Error (MAE): 0.2630\n",
            "Mean Squared Error (MSE): 0.1205\n",
            "Root Mean Squared Error (RMSE): 0.3472\n",
            "R-squared: 0.8882\n"
          ]
        }
      ],
      "source": [
        "from sklearn.metrics import mean_absolute_error, mean_squared_error, r2_score\n",
        "\n",
        "y_pred_nn = best_model.predict(X_test_poly)\n",
        "\n",
        "mae_nn = mean_absolute_error(y_test, y_pred_nn)\n",
        "mse_nn = mean_squared_error(y_test, y_pred_nn)\n",
        "rmse_nn = np.sqrt(mse_nn)\n",
        "r_squared_nn = r2_score(y_test, y_pred_nn)\n",
        "\n",
        "print(\"Evaluation Metrics for Neural Network with Best Hyperparameters:\")\n",
        "print(f\"Mean Absolute Error (MAE): {mae_nn:.4f}\")\n",
        "print(f\"Mean Squared Error (MSE): {mse_nn:.4f}\")\n",
        "print(f\"Root Mean Squared Error (RMSE): {rmse_nn:.4f}\")\n",
        "print(f\"R-squared: {r_squared_nn:.4f}\")\n"
      ]
    },
    {
      "cell_type": "code",
      "execution_count": 86,
      "metadata": {
        "id": "B1T4UhRrDoTs"
      },
      "outputs": [
        {
          "name": "stdout",
          "output_type": "stream",
          "text": [
            "Best hyperparameters for KNN: {'n_neighbors': 3, 'weights': 'distance'}\n",
            "R-squared with best KNN: 0.9752187362841976\n"
          ]
        }
      ],
      "source": [
        "\n",
        "\n",
        "knn_model = KNeighborsRegressor()\n",
        "\n",
        "param_grid = {\n",
        "    'n_neighbors': [3, 5, 7],\n",
        "    'weights': ['uniform', 'distance']\n",
        "}\n",
        "\n",
        "grid_search_knn = GridSearchCV(knn_model, param_grid, cv=5, scoring='r2')\n",
        "grid_search_knn.fit(X_train_scaled, y_train)\n",
        "\n",
        "best_params_knn = grid_search_knn.best_params_\n",
        "print(\"Best hyperparameters for KNN:\", best_params_knn)\n",
        "\n",
        "best_knn_model = grid_search_knn.best_estimator_\n",
        "y_pred_knn = best_knn_model.predict(X_test_scaled)\n",
        "r_squared_knn = r2_score(y_test, y_pred_knn)\n",
        "print(\"R-squared with best KNN:\", r_squared_knn)"
      ]
    },
    {
      "cell_type": "code",
      "execution_count": 87,
      "metadata": {},
      "outputs": [
        {
          "name": "stdout",
          "output_type": "stream",
          "text": [
            "Best hyperparameters for KNN: {'n_neighbors': 3, 'weights': 'uniform'}\n"
          ]
        }
      ],
      "source": [
        "param_grid = {\n",
        "    'n_neighbors': [3, 5],\n",
        "    'weights': ['uniform'] \n",
        "}\n",
        "\n",
        "grid_search_knn = GridSearchCV(knn_model, param_grid, cv=5, scoring='r2', n_jobs=-1)\n",
        "grid_search_knn.fit(X_train_scaled, y_train)\n",
        "\n",
        "best_params_knn = grid_search_knn.best_params_\n",
        "print(\"Best hyperparameters for KNN:\", best_params_knn)\n",
        "\n",
        "best_knn_model = grid_search_knn.best_estimator_"
      ]
    },
    {
      "cell_type": "code",
      "execution_count": 88,
      "metadata": {},
      "outputs": [
        {
          "name": "stdout",
          "output_type": "stream",
          "text": [
            "0.009327442987319861\n"
          ]
        }
      ],
      "source": [
        "from sklearn.model_selection import cross_val_score\n",
        "cv_scores = cross_val_score(best_knn_model, X_train_scaled, y_train, cv=5, scoring='r2')\n",
        "print(np.std(cv_scores))"
      ]
    },
    {
      "cell_type": "code",
      "execution_count": 89,
      "metadata": {},
      "outputs": [
        {
          "name": "stdout",
          "output_type": "stream",
          "text": [
            "Best hyperparameters for KNN: {'n_neighbors': 3, 'weights': 'distance'}\n",
            "R-squared on Training Data: 0.9998960198713917\n",
            "R-squared on Test Data: 0.9752187362841976\n"
          ]
        },
        {
          "data": {
            "image/png": "[encoded data removed]",
            "text/plain": [
              "<Figure size 640x480 with 1 Axes>"
            ]
          },
          "metadata": {},
          "output_type": "display_data"
        }
      ],
      "source": [
        "from sklearn.model_selection import learning_curve\n",
        "knn_model = KNeighborsRegressor()\n",
        "\n",
        "param_grid = {\n",
        "    'n_neighbors': [3, 5, 7, 9],\n",
        "    'weights': ['uniform', 'distance']\n",
        "}\n",
        "\n",
        "grid_search_knn = GridSearchCV(knn_model, param_grid, cv=5, scoring='r2', n_jobs=-1)\n",
        "grid_search_knn.fit(X_train_scaled, y_train)\n",
        "\n",
        "best_params_knn = grid_search_knn.best_params_\n",
        "print(\"Best hyperparameters for KNN:\", best_params_knn)\n",
        "\n",
        "best_knn_model = grid_search_knn.best_estimator_\n",
        "\n",
        "\n",
        "y_train_pred_knn = best_knn_model.predict(X_train_scaled)\n",
        "\n",
        "\n",
        "y_test_pred_knn = best_knn_model.predict(X_test_scaled)\n",
        "\n",
        "\n",
        "r_squared_train_knn = r2_score(y_train, y_train_pred_knn)\n",
        "\n",
        "\n",
        "r_squared_test_knn = r2_score(y_test, y_test_pred_knn)\n",
        "\n",
        "\n",
        "print(\"R-squared on Training Data:\", r_squared_train_knn)\n",
        "print(\"R-squared on Test Data:\", r_squared_test_knn)\n",
        "\n",
        "\n",
        "train_sizes, train_scores, test_scores = learning_curve(best_knn_model, X_train_scaled, y_train, cv=5, scoring='r2', n_jobs=-1)\n",
        "\n",
        "\n",
        "train_scores_mean = np.mean(train_scores, axis=1)\n",
        "train_scores_std = np.std(train_scores, axis=1)\n",
        "test_scores_mean = np.mean(test_scores, axis=1)\n",
        "test_scores_std = np.std(test_scores, axis=1)\n",
        "\n",
        "plt.figure()\n",
        "plt.title(\"Learning Curves (KNN)\")\n",
        "plt.xlabel(\"Training examples\")\n",
        "plt.ylabel(\"R-squared Score\")\n",
        "plt.grid()"
      ]
    },
    {
      "cell_type": "code",
      "execution_count": 90,
      "metadata": {},
      "outputs": [
        {
          "name": "stdout",
          "output_type": "stream",
          "text": [
            "R-squared on Training Data: 0.9998960198713917\n",
            "R-squared on Test Data: 0.9752187362841976\n",
            "The model may be overfitting.\n"
          ]
        }
      ],
      "source": [
        "from sklearn.metrics import r2_score\n",
        "\n",
        "\n",
        "best_knn_model = grid_search_knn.best_estimator_\n",
        "\n",
        "\n",
        "y_train_pred_knn = best_knn_model.predict(X_train_scaled)\n",
        "\n",
        "\n",
        "y_test_pred_knn = best_knn_model.predict(X_test_scaled)\n",
        "\n",
        "\n",
        "r_squared_train_knn = r2_score(y_train, y_train_pred_knn)\n",
        "r_squared_test_knn = r2_score(y_test, y_test_pred_knn)\n",
        "\n",
        "\n",
        "print(\"R-squared on Training Data:\", r_squared_train_knn)\n",
        "print(\"R-squared on Test Data:\", r_squared_test_knn)\n",
        "\n",
        "\n",
        "if r_squared_train_knn > r_squared_test_knn:\n",
        "    print(\"The model may be overfitting.\")\n"
      ]
    },
    {
      "cell_type": "code",
      "execution_count": 91,
      "metadata": {
        "id": "3ciTYHznSYc0"
      },
      "outputs": [
        {
          "name": "stdout",
          "output_type": "stream",
          "text": [
            "Evaluation Metrics for K-Nearest Neighbors (KNN) Regressor with Best Hyperparameters:\n",
            "Mean Absolute Error (MAE): 0.1040\n",
            "Mean Squared Error (MSE): 0.0267\n",
            "Root Mean Squared Error (RMSE): 0.1635\n",
            "R-squared: 0.9752\n"
          ]
        }
      ],
      "source": [
        "from sklearn.metrics import mean_absolute_error, mean_squared_error, r2_score\n",
        "\n",
        "y_pred_knn = best_knn_model.predict(X_test_scaled)\n",
        "\n",
        "mae_knn = mean_absolute_error(y_test, y_pred_knn)\n",
        "mse_knn = mean_squared_error(y_test, y_pred_knn)\n",
        "rmse_knn = np.sqrt(mse_knn)\n",
        "r_squared_knn = r2_score(y_test, y_pred_knn)\n",
        "\n",
        "print(\"Evaluation Metrics for K-Nearest Neighbors (KNN) Regressor with Best Hyperparameters:\")\n",
        "print(f\"Mean Absolute Error (MAE): {mae_knn:.4f}\")\n",
        "print(f\"Mean Squared Error (MSE): {mse_knn:.4f}\")\n",
        "print(f\"Root Mean Squared Error (RMSE): {rmse_knn:.4f}\")\n",
        "print(f\"R-squared: {r_squared_knn:.4f}\")"
      ]
    },
    {
      "cell_type": "code",
      "execution_count": 92,
      "metadata": {
        "id": "gER-fd7_EAru"
      },
      "outputs": [
        {
          "name": "stdout",
          "output_type": "stream",
          "text": [
            "Best hyperparameters for GradientBoostingRegressor: {'learning_rate': 0.2, 'max_depth': 4, 'n_estimators': 150}\n",
            "R-squared with best GradientBoostingRegressor: 0.9635943756639838\n"
          ]
        }
      ],
      "source": [
        "\n",
        "gb_model = GradientBoostingRegressor()\n",
        "\n",
        "param_grid = {\n",
        "    'n_estimators': [50, 100, 150],\n",
        "    'learning_rate': [0.05, 0.1, 0.2],\n",
        "    'max_depth': [3, 4, 5]\n",
        "}\n",
        "\n",
        "grid_search_gb = GridSearchCV(gb_model, param_grid, cv=5, scoring='r2')\n",
        "grid_search_gb.fit(X_train, y_train)\n",
        "\n",
        "best_params_gb = grid_search_gb.best_params_\n",
        "print(\"Best hyperparameters for GradientBoostingRegressor:\", best_params_gb)\n",
        "\n",
        "best_gb_model = grid_search_gb.best_estimator_\n",
        "y_pred_gb = best_gb_model.predict(X_test)\n",
        "r_squared_gb = r2_score(y_test, y_pred_gb)\n",
        "print(\"R-squared with best GradientBoostingRegressor:\", r_squared_gb)\n"
      ]
    },
    {
      "cell_type": "code",
      "execution_count": 93,
      "metadata": {
        "id": "WMCiDVSYSjth"
      },
      "outputs": [
        {
          "name": "stdout",
          "output_type": "stream",
          "text": [
            "Evaluation Metrics for Gradient Boosting Regressor with Best Hyperparameters:\n",
            "Mean Absolute Error (MAE): 0.1269\n",
            "Mean Squared Error (MSE): 0.0393\n",
            "Root Mean Squared Error (RMSE): 0.1982\n",
            "R-squared: 0.9636\n"
          ]
        }
      ],
      "source": [
        "from sklearn.metrics import mean_absolute_error, mean_squared_error, r2_score\n",
        "\n",
        "y_pred_gb = best_gb_model.predict(X_test)\n",
        "\n",
        "mae_gb = mean_absolute_error(y_test, y_pred_gb)\n",
        "mse_gb = mean_squared_error(y_test, y_pred_gb)\n",
        "rmse_gb = np.sqrt(mse_gb)\n",
        "r_squared_gb = r2_score(y_test, y_pred_gb)\n",
        "\n",
        "print(\"Evaluation Metrics for Gradient Boosting Regressor with Best Hyperparameters:\")\n",
        "print(f\"Mean Absolute Error (MAE): {mae_gb:.4f}\")\n",
        "print(f\"Mean Squared Error (MSE): {mse_gb:.4f}\")\n",
        "print(f\"Root Mean Squared Error (RMSE): {rmse_gb:.4f}\")\n",
        "print(f\"R-squared: {r_squared_gb:.4f}\")\n"
      ]
    },
    {
      "cell_type": "code",
      "execution_count": 95,
      "metadata": {},
      "outputs": [
        {
          "data": {
            "image/png": "[encoded data removed]",
            "text/plain": [
              "<Figure size 1000x600 with 1 Axes>"
            ]
          },
          "metadata": {},
          "output_type": "display_data"
        }
      ],
      "source": [
        "\n",
        "feature_names = poly.get_feature_names_out(input_features=X.columns)\n",
        "coefficients = model.coef_[0]\n",
        "sorted_indices = np.argsort(coefficients)\n",
        "sorted_feature_names = [feature_names[i] for i in sorted_indices]\n",
        "sorted_coefficients = coefficients[sorted_indices]\n",
        "\n",
        "top_feature_names = sorted_feature_names[-10:]\n",
        "top_coefficients = sorted_coefficients[-10:]\n",
        "\n",
        "plt.figure(figsize=(10, 6))\n",
        "plt.barh(top_feature_names, top_coefficients)\n",
        "plt.xlabel('Coefficient Value')\n",
        "plt.ylabel('Feature Name')\n",
        "plt.title('Top 10 Feature Importance Plot')\n",
        "plt.grid(True)\n",
        "plt.show()\n"
      ]
    }
  ],
  "metadata": {
    "accelerator": "GPU",
    "colab": {
      "gpuType": "T4",
      "provenance": []
    },
    "kernelspec": {
      "display_name": "Python 3",
      "name": "python3"
    },
    "language_info": {
      "codemirror_mode": {
        "name": "ipython",
        "version": 3
      },
      "file_extension": ".py",
      "mimetype": "text/x-python",
      "name": "python",
      "nbconvert_exporter": "python",
      "pygments_lexer": "ipython3",
      "version": "3.10.2"
    }
  },
  "nbformat": 4,
  "nbformat_minor": 0
}
